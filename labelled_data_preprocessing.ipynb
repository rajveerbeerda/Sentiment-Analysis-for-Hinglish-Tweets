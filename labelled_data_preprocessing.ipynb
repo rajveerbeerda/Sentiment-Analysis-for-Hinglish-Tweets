{
 "cells": [
  {
   "cell_type": "code",
   "execution_count": 1,
   "metadata": {},
   "outputs": [],
   "source": [
    "f = open(\"./Sample_data/train_14k_split_conll.txt\", \"r\")\n",
    "s = str(f.read())"
   ]
  },
  {
   "cell_type": "code",
   "execution_count": 2,
   "metadata": {},
   "outputs": [],
   "source": [
    "lst = s.split(\"\\n\")"
   ]
  },
  {
   "cell_type": "code",
   "execution_count": 3,
   "metadata": {},
   "outputs": [],
   "source": [
    "rows = [[\"id\", \"text\", \"label\"]]\n",
    "labels = [\"positive\", \"negative\", \"neutral\"]\n",
    "sent = \"\"\n",
    "flag = 1\n",
    "for i in lst:\n",
    "    try:\n",
    "        st = i.split(\"\\t\")\n",
    "        if st[0]==\"meta\":\n",
    "            if len(sent)!=0:\n",
    "                rows.append([tweet_id, sent, tweet_label])\n",
    "                flag = 1\n",
    "                sent = \"\"\n",
    "            tweet_id = st[1]\n",
    "            tweet_label = labels.index(st[2])\n",
    "            continue\n",
    "            \n",
    "        \n",
    "        if flag==1:\n",
    "            if st[0]==\"@\" or st[0]==\"#\":\n",
    "                sent = sent + st[0]\n",
    "            else:\n",
    "                if st[1]==\"EMT\":\n",
    "                    continue\n",
    "                else:\n",
    "                    if st[0]==\"…\":\n",
    "                        flag = 0\n",
    "                    else:\n",
    "                        sent = sent + st[0] + \" \"\n",
    "    except Exception:\n",
    "        pass     "
   ]
  },
  {
   "cell_type": "code",
   "execution_count": 4,
   "metadata": {},
   "outputs": [
    {
     "data": {
      "text/plain": [
       "14000"
      ]
     },
     "execution_count": 4,
     "metadata": {},
     "output_type": "execute_result"
    }
   ],
   "source": [
    "len(rows)"
   ]
  },
  {
   "cell_type": "code",
   "execution_count": 5,
   "metadata": {},
   "outputs": [],
   "source": [
    "import csv\n",
    "with open('Preprocessed_data/train_14k_split_conll.csv', 'w', newline='') as file:\n",
    "    writer = csv.writer(file)\n",
    "    writer.writerows(rows)"
   ]
  },
  {
   "cell_type": "code",
   "execution_count": null,
   "metadata": {},
   "outputs": [],
   "source": []
  }
 ],
 "metadata": {
  "kernelspec": {
   "display_name": "Python 3",
   "language": "python",
   "name": "python3"
  },
  "language_info": {
   "codemirror_mode": {
    "name": "ipython",
    "version": 3
   },
   "file_extension": ".py",
   "mimetype": "text/x-python",
   "name": "python",
   "nbconvert_exporter": "python",
   "pygments_lexer": "ipython3",
   "version": "3.7.6"
  }
 },
 "nbformat": 4,
 "nbformat_minor": 4
}
